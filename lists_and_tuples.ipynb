{
  "nbformat": 4,
  "nbformat_minor": 0,
  "metadata": {
    "colab": {
      "provenance": []
    },
    "kernelspec": {
      "name": "python3",
      "display_name": "Python 3"
    },
    "language_info": {
      "name": "python"
    }
  },
  "cells": [
    {
      "cell_type": "markdown",
      "source": [
        "Arrays (Lists)\n",
        "1. Create a List: Ask the user to input 10 natural numbers and store them in a list. Print the\n",
        "list.\n",
        "2. List Indexing: Given a list of numbers [10, 20, 30, 40, 50], access and print the\n",
        "third element.\n",
        "3. List Slicing: Given a list of numbers [1, 2, 3, 4, 5, 6, 7, 8, 9, 10], slice the list\n",
        "to get the first 5 elements and print them.\n",
        "4. Append to List: Append the color &#39;purple&#39; to the list of colors [&#39;red&#39;, &#39;blue&#39;,\n",
        "&#39;green&#39;] and print the updated list.\n",
        "5. Extend List: Extend the list of fruits [&#39;apple&#39;, &#39;banana&#39;] with another list\n",
        "[&#39;cherry&#39;, &#39;date&#39;] and print the updated list.\n",
        "6. Insert into List: Insert the number 15 at the second position in the list [10, 20, 30]\n",
        "and print the updated list.\n",
        "7. Remove from List: Remove the first occurrence of the element &#39;banana&#39; from the list\n",
        "[&#39;apple&#39;, &#39;banana&#39;, &#39;cherry&#39;, &#39;banana&#39;] and print the updated list.\n",
        "8. Pop from List: Pop the last element from the list [1, 2, 3, 4, 5], print the popped\n",
        "element, and the updated list.\n",
        "9. Reverse List: Reverse the list [1, 2, 3, 4, 5] and print the reversed list.\n",
        "10. Sort List: Sort the list of names [&#39;John&#39;, &#39;Alice&#39;, &#39;Bob&#39;] in alphabetical order and\n",
        "print the sorted list.\n",
        "11. List Comprehension: Create a list of squares of the first 10 natural numbers using list\n",
        "comprehension and print the list.\n",
        "12. Find Max and Min: Find the maximum and minimum values in the list [4, 2, 8, 6,\n",
        "5] and print them.\n",
        "13. Sum of Elements: Calculate the sum of all elements in the list [4, 2, 8, 6, 5] and\n",
        "print it.\n",
        "14. Product of Elements: Calculate the product of all elements in the list [1, 2, 3, 4] and\n",
        "print it.\n",
        "15. Remove Duplicates: Remove duplicate elements from the list [1, 2, 2, 3, 4, 4, 5]\n",
        "and print the updated list.\n",
        "16. List of Even Numbers: Create a list of even numbers from the given list [1, 2, 3, 4,\n",
        "5, 6, 7, 8, 9, 10] and print it.\n",
        "17. List to String: Convert the list of characters [&#39;H&#39;, &#39;e&#39;, &#39;l&#39;, &#39;l&#39;, &#39;o&#39;] to a string\n",
        "and print it.\n",
        "18. String to List: Convert the string &quot;Hello&quot; to a list of characters and print it.\n",
        "Tuples\n",
        "19. Create a Tuple: Create a tuple with different data types (e.g., integer, float, string) and\n",
        "print it.\n",
        "20. Access Tuple Elements: Given a tuple (&#39;a&#39;, &#39;b&#39;, &#39;c&#39;, &#39;d&#39;), access and print the\n",
        "second element.\n",
        "21. Unpack Tuple: Unpack the tuple (1, 2, 3) into three variables and print them.\n",
        "22. Concatenate Tuples: Concatenate the tuples (1, 2) and (3, 4) and print the result.\n",
        "23. Repeat Tuple: Repeat the tuple (1, 2, 3) three times and print the result.\n",
        "\n",
        "24. Tuple Slicing: Slice the tuple (1, 2, 3, 4, 5) to get the last three elements and print\n",
        "them.\n",
        "25. Check Element in Tuple: Check if the element &#39;b&#39; exists in the tuple (&#39;a&#39;, &#39;b&#39;, &#39;c&#39;)\n",
        "and print the result.\n",
        "26. Count Tuple Elements: Count the occurrences of the element 2 in the tuple (1, 2, 2,\n",
        "3, 4) and print the result.\n",
        "27. Index of Element in Tuple: Find the index of the element &#39;c&#39; in the tuple (&#39;a&#39;, &#39;b&#39;,\n",
        "&#39;c&#39;, &#39;d&#39;) and print it.\n",
        "28. Convert Tuple to List: Convert the tuple (1, 2, 3) to a list and print it.\n",
        "29. Convert List to Tuple: Convert the list [1, 2, 3] to a tuple and print it.\n",
        "30. Nested Tuples: Create a nested tuple ((1, 2), (3, 4), (5, 6)) and print the first\n",
        "element of the second tuple."
      ],
      "metadata": {
        "id": "XQXfSudq_Zl6"
      }
    },
    {
      "cell_type": "code",
      "source": [
        "# Asking user to input 10 natural numbers\n",
        "numbers = []\n",
        "for i in range(10):\n",
        "    number = int(input(f\"Enter natural number {i+1}: \"))\n",
        "    numbers.append(number)\n",
        "print(\"List of numbers:\", numbers)\n"
      ],
      "metadata": {
        "colab": {
          "base_uri": "https://localhost:8080/"
        },
        "id": "dCVYMb15_fcD",
        "outputId": "8b89cd34-b148-4a48-ee64-fec0d7d7e42e"
      },
      "execution_count": 8,
      "outputs": [
        {
          "output_type": "stream",
          "name": "stdout",
          "text": [
            "Enter natural number 1: 1\n",
            "Enter natural number 2: 2\n",
            "Enter natural number 3: 3\n",
            "Enter natural number 4: 4\n",
            "Enter natural number 5: 5\n",
            "Enter natural number 6: 6\n",
            "Enter natural number 7: 7\n",
            "Enter natural number 8: 8\n",
            "Enter natural number 9: 9\n",
            "Enter natural number 10: 10\n",
            "List of numbers: [1, 2, 3, 4, 5, 6, 7, 8, 9, 10]\n"
          ]
        }
      ]
    },
    {
      "cell_type": "code",
      "source": [
        "numbers = [10, 20, 30, 40, 50]\n",
        "print(\"Third element:\", numbers[2])\n"
      ],
      "metadata": {
        "colab": {
          "base_uri": "https://localhost:8080/"
        },
        "id": "Ned5sDAV_izk",
        "outputId": "516c2e5d-63cc-4ece-d485-223888956cc4"
      },
      "execution_count": 9,
      "outputs": [
        {
          "output_type": "stream",
          "name": "stdout",
          "text": [
            "Third element: 30\n"
          ]
        }
      ]
    },
    {
      "cell_type": "code",
      "source": [
        "numbers = [1, 2, 3, 4, 5, 6, 7, 8, 9, 10]\n",
        "first_five = numbers[:5]\n",
        "print(\"First 5 elements:\", first_five)\n"
      ],
      "metadata": {
        "colab": {
          "base_uri": "https://localhost:8080/"
        },
        "id": "bVGkGiAv_i3l",
        "outputId": "afb68a65-e890-4d03-f138-f572d40ceaf9"
      },
      "execution_count": 10,
      "outputs": [
        {
          "output_type": "stream",
          "name": "stdout",
          "text": [
            "First 5 elements: [1, 2, 3, 4, 5]\n"
          ]
        }
      ]
    },
    {
      "cell_type": "code",
      "source": [
        "colors = ['red', 'blue', 'green']\n",
        "colors.append('purple')\n",
        "print(\"Updated colors list:\", colors)\n"
      ],
      "metadata": {
        "colab": {
          "base_uri": "https://localhost:8080/"
        },
        "id": "DQIxoeFS_i7L",
        "outputId": "46152be5-fd46-4766-d309-16c7913fb070"
      },
      "execution_count": 11,
      "outputs": [
        {
          "output_type": "stream",
          "name": "stdout",
          "text": [
            "Updated colors list: ['red', 'blue', 'green', 'purple']\n"
          ]
        }
      ]
    },
    {
      "cell_type": "code",
      "source": [
        "fruits = ['apple', 'banana']\n",
        "more_fruits = ['cherry', 'date']\n",
        "fruits.extend(more_fruits)\n",
        "print(\"Updated fruits list:\", fruits)\n"
      ],
      "metadata": {
        "colab": {
          "base_uri": "https://localhost:8080/"
        },
        "id": "vxjQq0j4_i-5",
        "outputId": "97667ac4-879a-4a93-c31a-94ebf815b9fc"
      },
      "execution_count": 12,
      "outputs": [
        {
          "output_type": "stream",
          "name": "stdout",
          "text": [
            "Updated fruits list: ['apple', 'banana', 'cherry', 'date']\n"
          ]
        }
      ]
    },
    {
      "cell_type": "code",
      "source": [
        "numbers = [10, 20, 30]\n",
        "numbers.insert(1, 15)\n",
        "print(\"Updated list:\", numbers)\n"
      ],
      "metadata": {
        "colab": {
          "base_uri": "https://localhost:8080/"
        },
        "id": "JkwRL65u_jCQ",
        "outputId": "6d449fac-9c8d-474d-fb0c-c717d22f2a08"
      },
      "execution_count": 13,
      "outputs": [
        {
          "output_type": "stream",
          "name": "stdout",
          "text": [
            "Updated list: [10, 15, 20, 30]\n"
          ]
        }
      ]
    },
    {
      "cell_type": "code",
      "source": [
        "fruits = ['apple', 'banana', 'cherry', 'banana']\n",
        "fruits.remove('banana')\n",
        "print(\"Updated list after removing 'banana':\", fruits)\n"
      ],
      "metadata": {
        "colab": {
          "base_uri": "https://localhost:8080/"
        },
        "id": "Scus3vnw_jFk",
        "outputId": "2dc06f77-e490-4b0a-b7dc-6d8dfd823368"
      },
      "execution_count": 14,
      "outputs": [
        {
          "output_type": "stream",
          "name": "stdout",
          "text": [
            "Updated list after removing 'banana': ['apple', 'cherry', 'banana']\n"
          ]
        }
      ]
    },
    {
      "cell_type": "code",
      "source": [
        "numbers = [1, 2, 3, 4, 5]\n",
        "popped_element = numbers.pop()\n",
        "print(\"Popped element:\", popped_element)\n",
        "print(\"Updated list:\", numbers)\n"
      ],
      "metadata": {
        "colab": {
          "base_uri": "https://localhost:8080/"
        },
        "id": "lqLVlUo2_jJH",
        "outputId": "6fb214ea-2aee-4cb1-a8d9-5a2f95329da8"
      },
      "execution_count": 15,
      "outputs": [
        {
          "output_type": "stream",
          "name": "stdout",
          "text": [
            "Popped element: 5\n",
            "Updated list: [1, 2, 3, 4]\n"
          ]
        }
      ]
    },
    {
      "cell_type": "code",
      "source": [
        "numbers = [1, 2, 3, 4, 5]\n",
        "numbers.reverse()\n",
        "print(\"Reversed list:\", numbers)\n"
      ],
      "metadata": {
        "colab": {
          "base_uri": "https://localhost:8080/"
        },
        "id": "7nZCBDIK_jMm",
        "outputId": "0c78a3fd-e513-4efb-cf5d-f97b6308bd45"
      },
      "execution_count": 16,
      "outputs": [
        {
          "output_type": "stream",
          "name": "stdout",
          "text": [
            "Reversed list: [5, 4, 3, 2, 1]\n"
          ]
        }
      ]
    },
    {
      "cell_type": "code",
      "source": [
        "names = ['John', 'Alice', 'Bob']\n",
        "names.sort()\n",
        "print(\"Sorted names:\", names)\n"
      ],
      "metadata": {
        "colab": {
          "base_uri": "https://localhost:8080/"
        },
        "id": "2zh3YNJL_jPk",
        "outputId": "007b5def-db60-42da-c849-bbaa68dafcab"
      },
      "execution_count": 17,
      "outputs": [
        {
          "output_type": "stream",
          "name": "stdout",
          "text": [
            "Sorted names: ['Alice', 'Bob', 'John']\n"
          ]
        }
      ]
    },
    {
      "cell_type": "code",
      "source": [
        "squares = [i**2 for i in range(1, 11)]\n",
        "print(\"List of squares of first 10 natural numbers:\", squares)\n"
      ],
      "metadata": {
        "colab": {
          "base_uri": "https://localhost:8080/"
        },
        "id": "iFoqG5o8_jUG",
        "outputId": "3342edca-5bd5-43f1-cc2a-27ba8a0fef25"
      },
      "execution_count": 18,
      "outputs": [
        {
          "output_type": "stream",
          "name": "stdout",
          "text": [
            "List of squares of first 10 natural numbers: [1, 4, 9, 16, 25, 36, 49, 64, 81, 100]\n"
          ]
        }
      ]
    },
    {
      "cell_type": "code",
      "source": [
        "my_tuple = (42, 3.14, \"Python\")\n",
        "print(\"Tuple with different data types:\", my_tuple)\n"
      ],
      "metadata": {
        "colab": {
          "base_uri": "https://localhost:8080/"
        },
        "id": "FSzD9411_jY9",
        "outputId": "bcb982f8-6ca5-4686-e4a5-ee52b226d4f4"
      },
      "execution_count": 19,
      "outputs": [
        {
          "output_type": "stream",
          "name": "stdout",
          "text": [
            "Tuple with different data types: (42, 3.14, 'Python')\n"
          ]
        }
      ]
    },
    {
      "cell_type": "code",
      "source": [
        "my_tuple = ('a', 'b', 'c', 'd')\n",
        "print(\"Second element of tuple:\", my_tuple[1])\n"
      ],
      "metadata": {
        "colab": {
          "base_uri": "https://localhost:8080/"
        },
        "id": "5mqpN7HQ_jcS",
        "outputId": "22bc6736-b164-4750-a94a-369ffd75bc13"
      },
      "execution_count": 20,
      "outputs": [
        {
          "output_type": "stream",
          "name": "stdout",
          "text": [
            "Second element of tuple: b\n"
          ]
        }
      ]
    },
    {
      "cell_type": "code",
      "source": [
        "my_tuple = (1, 2, 3)\n",
        "x, y, z = my_tuple\n",
        "print(\"Unpacked elements:\", x, y, z)\n"
      ],
      "metadata": {
        "colab": {
          "base_uri": "https://localhost:8080/"
        },
        "id": "9yJ2Ro8K_jfz",
        "outputId": "61456767-b7a0-496c-c8e1-7b492cff4017"
      },
      "execution_count": 21,
      "outputs": [
        {
          "output_type": "stream",
          "name": "stdout",
          "text": [
            "Unpacked elements: 1 2 3\n"
          ]
        }
      ]
    },
    {
      "cell_type": "code",
      "source": [
        "tuple1 = (1, 2)\n",
        "tuple2 = (3, 4)\n",
        "concatenated_tuple = tuple1 + tuple2\n",
        "print(\"Concatenated tuple:\", concatenated_tuple)\n"
      ],
      "metadata": {
        "colab": {
          "base_uri": "https://localhost:8080/"
        },
        "id": "ro_TMXOZAR3Z",
        "outputId": "14879ac3-7126-413a-f691-70aecfed369a"
      },
      "execution_count": 22,
      "outputs": [
        {
          "output_type": "stream",
          "name": "stdout",
          "text": [
            "Concatenated tuple: (1, 2, 3, 4)\n"
          ]
        }
      ]
    },
    {
      "cell_type": "code",
      "source": [
        "my_tuple = (1, 2, 3)\n",
        "repeated_tuple = my_tuple * 3\n",
        "print(\"Repeated tuple:\", repeated_tuple)\n"
      ],
      "metadata": {
        "colab": {
          "base_uri": "https://localhost:8080/"
        },
        "id": "GMFKT0P5AR9O",
        "outputId": "03328905-aa43-403c-8e3a-6b462bae5159"
      },
      "execution_count": 23,
      "outputs": [
        {
          "output_type": "stream",
          "name": "stdout",
          "text": [
            "Repeated tuple: (1, 2, 3, 1, 2, 3, 1, 2, 3)\n"
          ]
        }
      ]
    },
    {
      "cell_type": "code",
      "source": [
        "my_tuple = (1, 2, 3, 4, 5)\n",
        "sliced_tuple = my_tuple[-3:]\n",
        "print(\"Last three elements of tuple:\", sliced_tuple)\n"
      ],
      "metadata": {
        "colab": {
          "base_uri": "https://localhost:8080/"
        },
        "id": "buOeeerjASBI",
        "outputId": "2445c194-81fd-486e-8e6b-16da0e7b1f75"
      },
      "execution_count": 24,
      "outputs": [
        {
          "output_type": "stream",
          "name": "stdout",
          "text": [
            "Last three elements of tuple: (3, 4, 5)\n"
          ]
        }
      ]
    },
    {
      "cell_type": "code",
      "source": [
        "my_tuple = ('a', 'b', 'c')\n",
        "print(\"Is 'b' in tuple?\", 'b' in my_tuple)\n"
      ],
      "metadata": {
        "colab": {
          "base_uri": "https://localhost:8080/"
        },
        "id": "gIFG3VZiASDh",
        "outputId": "64e8451a-1d4b-47b4-b0e0-8f0598e01940"
      },
      "execution_count": 25,
      "outputs": [
        {
          "output_type": "stream",
          "name": "stdout",
          "text": [
            "Is 'b' in tuple? True\n"
          ]
        }
      ]
    },
    {
      "cell_type": "code",
      "source": [
        "my_tuple = (1, 2, 2, 3, 4)\n",
        "count_of_two = my_tuple.count(2)\n",
        "print(\"Count of 2 in tuple:\", count_of_two)\n"
      ],
      "metadata": {
        "colab": {
          "base_uri": "https://localhost:8080/"
        },
        "id": "ByVon6LEASHF",
        "outputId": "2db61446-484e-40ec-f0fc-eed4e7b42b3a"
      },
      "execution_count": 26,
      "outputs": [
        {
          "output_type": "stream",
          "name": "stdout",
          "text": [
            "Count of 2 in tuple: 2\n"
          ]
        }
      ]
    },
    {
      "cell_type": "code",
      "source": [
        "my_tuple = ('a', 'b', 'c', 'd')\n",
        "index_of_c = my_tuple.index('c')\n",
        "print(\"Index of 'c' in tuple:\", index_of_c)\n"
      ],
      "metadata": {
        "colab": {
          "base_uri": "https://localhost:8080/"
        },
        "id": "7g75McWwASKp",
        "outputId": "aadb369c-d280-4909-d735-7e43ff2e67df"
      },
      "execution_count": 27,
      "outputs": [
        {
          "output_type": "stream",
          "name": "stdout",
          "text": [
            "Index of 'c' in tuple: 2\n"
          ]
        }
      ]
    }
  ]
}